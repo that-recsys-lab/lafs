{
 "cells": [
  {
   "cell_type": "code",
   "execution_count": 17,
   "id": "5c5616b1-d6d4-4096-bb8e-0d71036c586d",
   "metadata": {},
   "outputs": [],
   "source": [
    "import data_gen"
   ]
  },
  {
   "cell_type": "code",
   "execution_count": 22,
   "id": "296792fb-21b1-4f3b-b2e9-6930050b6804",
   "metadata": {},
   "outputs": [
    {
     "data": {
      "text/plain": [
       "<module 'data_gen' from '/Users/robinburke/Library/CloudStorage/OneDrive-UCB-O365/Documents/repos/lafs/data_gen.py'>"
      ]
     },
     "execution_count": 22,
     "metadata": {},
     "output_type": "execute_result"
    }
   ],
   "source": [
    "import importlib\n",
    "importlib.reload(data_gen)"
   ]
  },
  {
   "cell_type": "markdown",
   "id": "8e4c5ade-06c6-4d47-ab31-3fe9a319e798",
   "metadata": {},
   "source": [
    "# Data Generation for SCRUF Experiments through LAFS\n",
    "\n",
    "This code generates simulated recommender system output through a process of LAtent Factor Simulation (LAFS). \n",
    "\n",
    "For each user, there is a list of items and an associated score. Users can be produced with different propensities towards the features of items, which may be sensitive or not. \n",
    "User propensities can be segmented temporally into multiple regimes: such that users with certain characteristics occur first and a set of users with different propensities show up next."
   ]
  },
  {
   "cell_type": "markdown",
   "id": "a23c192c-78f9-42e3-805d-0414c713d5cf",
   "metadata": {},
   "source": [
    "## Input - DataGenParameters\n",
    "\n",
    "Encapsulates the parameters needed to do the generation. Can be loaded from TOML\n",
    "\n",
    "* `num_items`: number of items (int)\n",
    "* `num_factors`: number of factors (int)\n",
    "* `item_feature_propensities`: the distributions used to generate item models ([int x num_factors])\n",
    "* `std_dev_factors`: standard deviation for the factor generation (float <0.0,1.0>)\n",
    "* `num_agents`: number of agents/protected factors (int)\n",
    "* `agent_discount`: subtraction for agents associated items ([(mean,variance) x num_agents])\n",
    "* `items_dependency`: an indication whether the first two item protected factors are co-dependent (boolean)\n",
    "* `num_users_per_propensity`: number of users per user propensity [int x number of user propensity groups]\n",
    "* `user_feature_propensities`: the distributions used to generate user models ( [(propensity) x number of factors] x number of user propensity groups ) \n",
    "* `initial_list_size`: the size of the list generated for each user (int)\n",
    "* `recommendation_size`: the size of the recommendation list delivered as output (int)"
   ]
  },
  {
   "cell_type": "markdown",
   "id": "7f315e44-3f71-43f0-88f0-1d2b5f9de656",
   "metadata": {},
   "source": [
    "# Example"
   ]
  },
  {
   "cell_type": "markdown",
   "id": "f0c03cd1-89ec-4c09-b1a6-af807f40d2b2",
   "metadata": {},
   "source": [
    "## Setup of the Parameters"
   ]
  },
  {
   "cell_type": "code",
   "execution_count": 33,
   "id": "6de1b193-db73-45d2-9b46-2720d162f367",
   "metadata": {},
   "outputs": [],
   "source": [
    "CONFIG_STRING = '''\n",
    "num_items = 1000\n",
    "initial_list_size = 200\n",
    "recommendation_size = 50\n",
    "num_users_per_propensity= [100,100]\n",
    "\n",
    "# Matrix info\n",
    "num_factors = 10\n",
    "std_dev_factors = 1.0\n",
    "\n",
    "# User and item generation info\n",
    "user_feature_propensities = [[[0.9, 0.1],[0.1, 0.1],[0.1, 0.1], [0.3, 1.0],[0.6, 1.0],[0.1, 0.6], [0.4, 1.0],[0.9, 1.0],[0.1, 0.6], [0.0, 1.0]],\n",
    "                    [[0.5, 0.5],[0.5, 0.5],[0.5, 0.5], [0.3, 1.0],[0.6, 1.0],[0.1, 0.6], [0.4, 1.0],[0.9, 1.0],[0.1, 0.6], [0.0, 1.0]]]\n",
    "item_feature_propensities = [0.1, 0.3, 0.9, 0.5, 0.6, 0.2, 0.5, 0.7, 0.6, 0.1]\n",
    "\n",
    "# Fairness info\n",
    "num_sensitive_features = 3\n",
    "feature_bias = [[0.5, 0.1], [0.0, 0.0], [0.0, 0.0]]\n",
    "\n",
    "# Output files\n",
    "compatibilities_file = \"data/sample_compatibilities.csv\"\n",
    "item_features_file = \"data/sample_item_features.csv\"\n",
    "user_factors_file = \"data/sample_user_factors.csv\"\n",
    "item_factors_file = \"data/sample_item_factors.csv\"\n",
    "ratings_file = \"data/sample_ratings.csv\"\n",
    "'''"
   ]
  },
  {
   "cell_type": "code",
   "execution_count": 35,
   "id": "16d4f223-e217-43db-b95c-4a86434eb30a",
   "metadata": {},
   "outputs": [
    {
     "data": {
      "text/plain": [
       "DataGenParameters(num_items=1000, num_factors=10, std_dev_factors=1.0, num_sensitive_features=3, feature_bias=[[0.5, 0.1], [0.0, 0.0], [0.0, 0.0]], num_users_per_propensity=[100, 100]"
      ]
     },
     "execution_count": 35,
     "metadata": {},
     "output_type": "execute_result"
    }
   ],
   "source": [
    "params = data_gen.DataGenParameters()\n",
    "params.from_string(CONFIG_STRING)\n",
    "params"
   ]
  },
  {
   "cell_type": "markdown",
   "id": "5da8a197-52ed-41ca-86c1-d2b25562e07d",
   "metadata": {},
   "source": [
    "## Generating the Output Data"
   ]
  },
  {
   "cell_type": "code",
   "execution_count": 38,
   "id": "4bfd00fd-b83d-49ae-ad27-0272e541c188",
   "metadata": {},
   "outputs": [],
   "source": [
    "lafs = data_gen.DataGen(params, save=False)"
   ]
  },
  {
   "cell_type": "code",
   "execution_count": 41,
   "id": "19a3d029-7bb2-4125-a63f-0bb5939f2cde",
   "metadata": {},
   "outputs": [
    {
     "data": {
      "text/plain": [
       "[(0, np.int64(542), np.float64(6.263802103517)),\n",
       " (0, np.int64(176), np.float64(6.020054977757706)),\n",
       " (0, np.int64(576), np.float64(5.316127896510761)),\n",
       " (0, np.int64(874), np.float64(5.084777235609874)),\n",
       " (0, np.int64(978), np.float64(4.9007439851817365)),\n",
       " (0, np.int64(205), np.float64(4.72650170469997)),\n",
       " (0, np.int64(853), np.float64(4.57386193481619)),\n",
       " (0, np.int64(222), np.float64(4.475202407950422)),\n",
       " (0, np.int64(168), np.float64(4.454761107438119)),\n",
       " (0, np.int64(943), np.float64(4.051090163061253))]"
      ]
     },
     "execution_count": 41,
     "metadata": {},
     "output_type": "execute_result"
    }
   ],
   "source": [
    "lafs.generate_data()\n",
    "lafs.ratings[:10]"
   ]
  },
  {
   "cell_type": "markdown",
   "id": "4c26ea6f-3f40-43d6-adef-aef1992ae066",
   "metadata": {},
   "source": [
    "You can use this to save the output. The file names in the params will be used."
   ]
  },
  {
   "cell_type": "code",
   "execution_count": null,
   "id": "2510012d-ee87-4fba-88ea-0cf32794bd33",
   "metadata": {},
   "outputs": [],
   "source": [
    "# lafs.save_ratings()"
   ]
  }
 ],
 "metadata": {
  "kernelspec": {
   "display_name": "venv",
   "language": "python",
   "name": "venv"
  },
  "language_info": {
   "codemirror_mode": {
    "name": "ipython",
    "version": 3
   },
   "file_extension": ".py",
   "mimetype": "text/x-python",
   "name": "python",
   "nbconvert_exporter": "python",
   "pygments_lexer": "ipython3",
   "version": "3.9.6"
  }
 },
 "nbformat": 4,
 "nbformat_minor": 5
}
